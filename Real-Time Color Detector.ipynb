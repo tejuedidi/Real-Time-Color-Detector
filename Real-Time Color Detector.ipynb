{
 "cells": [
  {
   "cell_type": "code",
   "execution_count": 1,
   "id": "00a40657-6e92-4450-8382-2454d33e0c16",
   "metadata": {},
   "outputs": [],
   "source": [
    "import numpy as np\n",
    "import cv2 \n",
    "from colorthief import ColorThief"
   ]
  },
  {
   "cell_type": "code",
   "execution_count": 2,
   "id": "4528b67b-f159-4a83-9ab8-fcfe90832c0e",
   "metadata": {},
   "outputs": [],
   "source": [
    "# fn to get the color palette of an image\n",
    "def getColors(img):\n",
    "    cv2.imwrite('img.jpg', img)\n",
    "    colorthief = ColorThief('img.jpg') \n",
    "    return colorthief.get_palette(color_count=7) # extracts 7 colors from the image"
   ]
  },
  {
   "cell_type": "code",
   "execution_count": 3,
   "id": "b0c41a57-abc2-4665-b71b-05bb321f9f26",
   "metadata": {},
   "outputs": [],
   "source": [
    "webcam = cv2.VideoCapture(0) # initializing default webcam\n",
    "\n",
    "while(True):\n",
    "    success, frame = webcam.read() # captures frame from webcam\n",
    "    if not success: # if frame not successfully captured then break\n",
    "        break\n",
    "\n",
    "    # extract dominant colors from the current frame\n",
    "    dom_colors = getColors(frame)\n",
    "\n",
    "    box_height = 30 # height of each color box\n",
    "    box_width = 30 # width of each color box\n",
    "    margin = 10 # space between each color box\n",
    "\n",
    "    for i, color in enumerate(dom_colors):\n",
    "        # position the bounding box and add text\n",
    "        top_left = (margin, margin + i * (box_height + margin)) \n",
    "        bottom_right = (top_left[0] + box_width, top_left[1] + box_height)\n",
    "\n",
    "        text = f'RGB: {color}'\n",
    "        text1 = 'press q to quit'\n",
    "        text_position = (bottom_right[0] + margin, top_left[1] + box_height // 2)\n",
    "        text_position1 = (480, 450)\n",
    "        \n",
    "        cv2.rectangle(frame, top_left, bottom_right, color[::-1], -1)\n",
    "        cv2.putText(frame, text, text_position, cv2.FONT_HERSHEY_SIMPLEX, 0.5, (color), 1)\n",
    "        cv2.putText(frame, text1, text_position1, cv2.FONT_HERSHEY_SIMPLEX, 0.5, (255,255,255), 1)\n",
    "        \n",
    "        \n",
    "    cv2.imshow('Real-Time Color Detector!', frame)\n",
    "    \n",
    "    # waits 1 millisecond to break the loop when q key is pressed\n",
    "    if cv2.waitKey(1) & 0xFF == ord('q'):\n",
    "        webcam.release() # release the webcam and close all windows\n",
    "        cv2.destroyAllWindows()\n",
    "        break"
   ]
  },
  {
   "cell_type": "code",
   "execution_count": null,
   "id": "8c8b89d2-7184-4519-8af3-e16662c748f5",
   "metadata": {},
   "outputs": [],
   "source": []
  }
 ],
 "metadata": {
  "kernelspec": {
   "display_name": "Python 3 (ipykernel)",
   "language": "python",
   "name": "python3"
  },
  "language_info": {
   "codemirror_mode": {
    "name": "ipython",
    "version": 3
   },
   "file_extension": ".py",
   "mimetype": "text/x-python",
   "name": "python",
   "nbconvert_exporter": "python",
   "pygments_lexer": "ipython3",
   "version": "3.11.7"
  }
 },
 "nbformat": 4,
 "nbformat_minor": 5
}
